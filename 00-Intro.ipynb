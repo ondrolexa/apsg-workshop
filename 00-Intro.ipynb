{
 "cells": [
  {
   "cell_type": "markdown",
   "metadata": {},
   "source": [
    "# Python programming and its applications in structural geology\n",
    "[Ondrej Lexa](https://petrol.natur.cuni.cz/~ondro/)  \n",
    "Institute of Petrology and Structural Geology  \n",
    "Faculty of Science, Charles University  \n",
    "[lexa.ondrej@gmail.com](mailto:lexa.ondrej@gmail.com)"
   ]
  },
  {
   "cell_type": "markdown",
   "metadata": {},
   "source": [
    "## Introduction"
   ]
  },
  {
   "cell_type": "markdown",
   "metadata": {},
   "source": [
    "[Python](https://www.python.org/) is one of the most popular open source languages in history. There are more than 100,000 open source packages published on the official package index [PiPy](https://pypi.python.org/pypi) alone and many more projects in general. Scientific Python environment is a mature ecosystem of python packages for doing far reaching scientific analysis in python. In this workshop we cover few core packages and show you the door for further study. We will introduce [APSG](https://github.com/ondrolexa/apsg) package to manage, analyze and visualize orientational structural geology data."
   ]
  },
  {
   "cell_type": "markdown",
   "metadata": {},
   "source": [
    "## Installation"
   ]
  },
  {
   "cell_type": "markdown",
   "metadata": {},
   "source": [
    "Python itself must be installed first and then there are many packages to install, and it can be confusing for beginners. If you use Linux or MacOS then you will have a default Python installed and you can use it. For Windows you have to install something. There are several options for setting up a nice Python development environment but the setup that is becoming \"standard\" is *Continuum Analytics* **Anaconda Distribution**, which we will use in this tutorial.\n",
    "\n",
    "**Anaconda Distribution** is a free, easy-to-install package manager, environment manager and Python distribution with a collection of 1,000+ open source packages with free community support. Anaconda is platform-agnostic, so you can use it whether you are on Windows, macOS or Linux. You can learn more about Anaconda and conda by reading the [Anaconda Documentation pages](https://docs.anaconda.com/).\n",
    "\n",
    "Few reasons to use Anaconda:\n",
    " * The people behind it are great Python programmers\n",
    " * It is a very nice collection of the most important Python packages\n",
    " * Package management using conda is excellent\n",
    " * It has some optimized numerical libraries linked with the latest Intel MKL libraries\n",
    " * It is a strong \"ecosystem\" for developers\n",
    " * It is available on Linux, MacOS and Windows\n",
    " * It is an Open Data Science platform\n",
    " * It is also a very good \"R\" platform\n",
    " * It by default installs to your home directory and doesn't interfere with any other Python install you may have.\n",
    " * It is easy to install!\n",
    "\n",
    "Download Anaconda from https://www.continuum.io/downloads. Note the architecture of your computer (32 or 64bits). Both Python 2.x and 3.x options are available, but this lecture series is based on Python 3.x"
   ]
  },
  {
   "cell_type": "markdown",
   "metadata": {},
   "source": [
    "## Getting started with Anaconda Python\n",
    "Your initial interaction with anaconda Python will be through the terminal. On Windows you will have new start menu items from the anaconda Python install,\n",
    "\n",
    "<img align=\"left\" src=\"images/start_anaconda.png\" style=\"padding:10px;\">\n",
    "\n",
    "If you open the app \"Anaconda Prompt\" you can do the same thing I just did on Linux,\n",
    "\n",
    "    (base) C:\\Users\\ondro>python\n",
    "    Python 3.6.4 |Anaconda, Inc.| (default, Mar 13 2018, 01:15:57) [MSC v.1900 64 bit (AMD64)] on win32\n",
    "    Type \"help\", \"copyright\", \"credits\" or \"license\" for more information.\n",
    "    >>> print(\"Hello Python\")\n",
    "    Hello Python\n",
    "    >>>\n",
    "\n",
    "That `>>>` symbol is the Python interpreter prompt that you can use interactively. To exit from the python session you can type `Ctrl-D` in Linux or `Ctrl-Z` in Windows or `quit()` in either one.\n",
    "\n",
    "Anaconda comes with a suite of graphical tools called **Anaconda Navigator**. You can start Anaconda Navigator by opening it from your application launcher.\n",
    "\n",
    "<img src=\"images/anaconda_navigator.png\">"
   ]
  },
  {
   "cell_type": "markdown",
   "metadata": {},
   "source": [
    "## Jupyter Notebooks"
   ]
  },
  {
   "cell_type": "markdown",
   "metadata": {},
   "source": [
    "Working from the command-line is fine but there is a very powerful and popular browser based notebook interface [Jupyter](http://jupyter.org/). This may become your main tool for interacting with Python. Jupyter evolved from ipython and is now a surprisingly useful interface for many languages (not just Python).\n",
    "\n",
    ">With Jupyter you can have **documentation** in Markdown, nice **mathematical equations** with LaTeX, graphs, **plots**, images, **executable code** and **output** all in the same document. I am currently reading a book that was written using Jupyter! ( \"Python Data Science Handbook\", by Jake VanderPlas O'Reilly Media, Inc., 2016 )\n",
    "\n",
    "To start Jupyter just type `jupyter notebook` in Linux or click on the Jupyter Notebook icon in Windows. You will want to spend some time reading the documentation and experimenting with Jupyter.\n",
    "\n",
    "You can also use Anaconda Navigator to launch **Jupyter Notebook**\n",
    "\n",
    "This file - an IPython notebook -  does not follow the standard pattern with Python code in a text file. Instead, an IPython notebook is stored as a file in the [JSON](http://en.wikipedia.org/wiki/JSON) format. The advantage is that we can mix formatted text, Python code and code output. It requires the IPython notebook server to run it though, and therefore isn't a stand-alone Python program as described above. Other than that, there is no difference between the Python code that goes into a program file or an IPython notebook."
   ]
  },
  {
   "cell_type": "markdown",
   "metadata": {},
   "source": [
    "## How to learn from this resource?"
   ]
  },
  {
   "cell_type": "markdown",
   "metadata": {},
   "source": [
    "Download all the ipython notebooks from this repository https://github.com/ondrolexa/apsg-workshop\n",
    "\n",
    "Launch jupyter notebook from the folder which contains the notebooks. Open each one of them\n",
    "\n",
    "    Cell > All Output > Clear\n",
    "    \n",
    "This will clear all the outputs and now you can understand each statement and learn interactively."
   ]
  },
  {
   "cell_type": "markdown",
   "metadata": {},
   "source": [
    "## Jupyter notebook configuration"
   ]
  },
  {
   "cell_type": "markdown",
   "metadata": {},
   "source": [
    "The notebook server can be run with a variety of command line arguments. A list of available options can be found below in the [options section](http://jupyter-notebook.readthedocs.io/en/stable/config.html#options) of Jupyter Notebook documetation.\n",
    "\n",
    "Defaults for these options can also be set by creating a file named `jupyter_notebook_config.py` in your Jupyter folder. The Jupyter folder is in your home directory, `~/.jupyter`.\n",
    "\n",
    "To create a jupyter_notebook_config.py file, with all the defaults commented out, you can use the following command line:\n",
    "\n",
    "    jupyter notebook --generate-config\n",
    "\n",
    "To set the default directory uncomment and modify:\n",
    "\n",
    "    c.NotebookApp.notebook_dir = '/absolute/path/to/notebook/directory'\n",
    "\n",
    "\n",
    "If you want to use a path relative to home folder, you can use something like:\n",
    "\n",
    "    import os\n",
    "    c.NotebookApp.notebook_dir = os.path.expanduser('~/Desktop/apsg-workshop-master')\n",
    "\n",
    "Now, whenever you run jupyter notebook, it opens desired notebook folder.\n",
    "\n",
    "As an aside, you can still use the `--notebook-dir` command line option, so maybe a simple alias would suit your needs better.\n",
    "\n",
    "    jupyter notebook --notebook-dir=/absolute/path/to/notebook/directory\n",
    "\n",
    "To change default web browser when opening the notebookuncomment and modify:\n",
    "\n",
    "    c.NotebookApp.browser = '/absolute/path/to/browser/executable'\n"
   ]
  },
  {
   "cell_type": "markdown",
   "metadata": {},
   "source": [
    "## Other resources"
   ]
  },
  {
   "cell_type": "markdown",
   "metadata": {},
   "source": [
    "There is a lot of online material you can use to lear Python. My favorites are:\n",
    "  * [Python Notes](http://www.thomas-cokelaer.info/tutorials/python/index.html)\n",
    "  * [Dive Into Python 3](http://www.diveintopython3.net/)\n",
    "  * [The Python Tutorial](https://docs.python.org/3/tutorial/index.html)"
   ]
  },
  {
   "cell_type": "code",
   "execution_count": 1,
   "metadata": {},
   "outputs": [
    {
     "name": "stdout",
     "output_type": "stream",
     "text": [
      "Running using Python 3.6.4 |Anaconda, Inc.| (default, Mar 13 2018, 01:15:57) \n",
      "[GCC 7.2.0]\n",
      "Testing Python version-> python 3.6 OK\n",
      "Testing numpy...      -> numpy 1.14.2 OK\n",
      "Testing scipy ...     -> scipy 1.0.0 OK\n",
      "Testing matplotlib... -> pylab 2.2.0 OK\n",
      "-----------------------------\n",
      "All the IPython Notebooks in this lecture series are available at:\n",
      "https://github.com/ondrolexa/apsg-workshop\n"
     ]
    }
   ],
   "source": [
    "%run scripts/footnote.py"
   ]
  }
 ],
 "metadata": {
  "kernelspec": {
   "display_name": "Python 3",
   "language": "python",
   "name": "python3"
  },
  "language_info": {
   "codemirror_mode": {
    "name": "ipython",
    "version": 3
   },
   "file_extension": ".py",
   "mimetype": "text/x-python",
   "name": "python",
   "nbconvert_exporter": "python",
   "pygments_lexer": "ipython3",
   "version": "3.6.4"
  }
 },
 "nbformat": 4,
 "nbformat_minor": 1
}
