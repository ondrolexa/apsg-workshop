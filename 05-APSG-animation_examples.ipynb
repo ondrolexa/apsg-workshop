{
 "cells": [
  {
   "cell_type": "markdown",
   "metadata": {},
   "source": [
    "# Stereonet animations in APSG\n",
    "[Ondrej Lexa](https://petrol.natur.cuni.cz/~ondro/)  \n",
    "Institute of Petrology and Structural Geology  \n",
    "Faculty of Science, Charles University  \n",
    "[lexa.ondrej@gmail.com](mailto:lexa.ondrej@gmail.com)"
   ]
  },
  {
   "cell_type": "markdown",
   "metadata": {},
   "source": [
    "`plane`, `line`, `vector`, `pole`, `arrow`, `fault` and `hoeppner` methods of `StereoNet` can store created artists internally when keyword argument `animate=True` is passed and could be used for animation. Note that matplotlib rc parameter `animation.html` should be set to `html5` for inline animations in Jupyter notebooks."
   ]
  },
  {
   "cell_type": "code",
   "execution_count": null,
   "metadata": {},
   "outputs": [],
   "source": [
    "from apsg import *\n",
    "# this is important for animation to work in notebook\n",
    "plt.rcParams['animation.html'] = 'html5'\n",
    "# just bit bigger than default\n",
    "plt.rcParams['figure.figsize'] = (8, 6)"
   ]
  },
  {
   "cell_type": "markdown",
   "metadata": {},
   "source": [
    "Firstly we create ``Group`` of planes to be animated."
   ]
  },
  {
   "cell_type": "code",
   "execution_count": null,
   "metadata": {},
   "outputs": [],
   "source": [
    "g = G('90 45 270 45 0 45 180 45 45 90 135 90', Fol)"
   ]
  },
  {
   "cell_type": "markdown",
   "metadata": {},
   "source": [
    "Than we simply sequentially plot, using one of the above mention methods, individual steps of animation. Note that animated objects are plotted with `animate=True` keyword argument."
   ]
  },
  {
   "cell_type": "code",
   "execution_count": null,
   "metadata": {},
   "outputs": [],
   "source": [
    "s = StereoNet()\n",
    "s.plane(g)\n",
    "for t in np.arange(0, 360, 2):\n",
    "    s.plane(g.rotate(Lin(90, 0), t), color='r', animate=True)\n",
    "s.close()"
   ]
  },
  {
   "cell_type": "markdown",
   "metadata": {},
   "source": [
    "Finally we call `animate` method which returns `matplotlib.animation.ArtistAnimation` object which is automatically shown in Juyter notebooks."
   ]
  },
  {
   "cell_type": "code",
   "execution_count": null,
   "metadata": {},
   "outputs": [],
   "source": [
    "# s.animate(interval=40).save('animation.gif', writer='imagemagick', fps=30)\n",
    "s.animate(interval=40)"
   ]
  },
  {
   "cell_type": "markdown",
   "metadata": {},
   "source": [
    "## Example 2\n",
    "Animation of homogeneous deformation of passive linear elements."
   ]
  },
  {
   "cell_type": "code",
   "execution_count": null,
   "metadata": {},
   "outputs": [],
   "source": [
    "g = Group.gss_lin()\n",
    "L = VelGrad.from_comp(yy=1, xx=-1)\n",
    "s = StereoNet()\n",
    "for t in range(100):\n",
    "    s.line(g.transform(L.defgrad(t/100)), animate=True, color='deepskyblue')\n",
    "s.close()"
   ]
  },
  {
   "cell_type": "code",
   "execution_count": null,
   "metadata": {},
   "outputs": [],
   "source": [
    "s.animate(interval=80)"
   ]
  }
 ],
 "metadata": {
  "kernelspec": {
   "display_name": "Python 3",
   "language": "python",
   "name": "python3"
  },
  "language_info": {
   "codemirror_mode": {
    "name": "ipython",
    "version": 3
   },
   "file_extension": ".py",
   "mimetype": "text/x-python",
   "name": "python",
   "nbconvert_exporter": "python",
   "pygments_lexer": "ipython3",
   "version": "3.6.4"
  }
 },
 "nbformat": 4,
 "nbformat_minor": 2
}
