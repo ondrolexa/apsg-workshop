{
 "cells": [
  {
   "cell_type": "markdown",
   "metadata": {},
   "source": [
    "# APSG tutorial - Group class\n",
    "[Ondrej Lexa](https://petrol.natur.cuni.cz/~ondro/)  \n",
    "Institute of Petrology and Structural Geology  \n",
    "Faculty of Science, Charles University  \n",
    "[lexa.ondrej@gmail.com](mailto:lexa.ondrej@gmail.com)"
   ]
  },
  {
   "cell_type": "code",
   "execution_count": null,
   "metadata": {},
   "outputs": [],
   "source": [
    "%pylab inline"
   ]
  },
  {
   "cell_type": "code",
   "execution_count": null,
   "metadata": {},
   "outputs": [],
   "source": [
    "from apsg import *\n",
    "plt.rcParams['figure.figsize'] = (9, 6)"
   ]
  },
  {
   "cell_type": "markdown",
   "metadata": {},
   "source": [
    "## How can I create instance of Group class?\n",
    "We already saw that one possibility to create `Group` is to pass the homogeneous list of features"
   ]
  },
  {
   "cell_type": "code",
   "execution_count": null,
   "metadata": {},
   "outputs": [],
   "source": [
    "g = Group([Lin(120,60), Lin(116,50), Lin(132,45), Lin(90,60), Lin(84,52)], name='L1')\n",
    "g"
   ]
  },
  {
   "cell_type": "markdown",
   "metadata": {},
   "source": [
    "Other possibility is to create `Group` from arrays of azimuths and dips:"
   ]
  },
  {
   "cell_type": "code",
   "execution_count": null,
   "metadata": {},
   "outputs": [],
   "source": [
    "azis = linspace(180, 0, 40)\n",
    "dips = linspace(0, 90, 40)\n",
    "g1 = Group.from_array(azis, dips, typ=Lin)\n",
    "azis = linspace(180, 360, 40)\n",
    "dips = linspace(0, 90, 40)\n",
    "g2 = Group.from_array(azis, dips, typ=Lin)\n",
    "g = g1 + g2\n",
    "StereoNet(g);"
   ]
  },
  {
   "cell_type": "markdown",
   "metadata": {},
   "source": [
    "or we can read data from text file (comma separated values):"
   ]
  },
  {
   "cell_type": "code",
   "execution_count": null,
   "metadata": {},
   "outputs": [],
   "source": [
    "g = Group.from_csv('data/data1.csv')\n",
    "g"
   ]
  },
  {
   "cell_type": "code",
   "execution_count": null,
   "metadata": {},
   "outputs": [],
   "source": [
    "s = StereoNet()\n",
    "s.contourf(g)\n",
    "s.tensor(g.ortensor)\n",
    "s.line(g, 'ro', mec='w', label='Data')\n",
    "s.show()"
   ]
  },
  {
   "cell_type": "markdown",
   "metadata": {},
   "source": [
    "We can also use few data generators provided by `Group`"
   ]
  },
  {
   "cell_type": "code",
   "execution_count": null,
   "metadata": {},
   "outputs": [],
   "source": [
    "# Uniformly distributed lines\n",
    "g = Group.uniform_lin()\n",
    "StereoNet(g);\n",
    "g.ortensor"
   ]
  },
  {
   "cell_type": "code",
   "execution_count": null,
   "metadata": {},
   "outputs": [],
   "source": [
    "# Uniformly distributed lines using Spherical Fibonacci Spiral points on a sphere algorithm\n",
    "g = Group.sfs_lin() # There are also sfs_vec3 and sfs_fol methods\n",
    "StereoNet(g);\n",
    "g.ortensor"
   ]
  },
  {
   "cell_type": "code",
   "execution_count": null,
   "metadata": {},
   "outputs": [],
   "source": [
    "# Uniformly distributed lines using Golden Section Spiral points on a sphere algorithm\n",
    "g = Group.sfs_lin()  # There are also sfs_vec3 and sfs_fol methods\n",
    "StereoNet(g);\n",
    "g.ortensor"
   ]
  },
  {
   "cell_type": "code",
   "execution_count": null,
   "metadata": {},
   "outputs": [],
   "source": [
    "# Pseudonormaly distributed lines\n",
    "g = Group.randn_lin(mean=Lin(150, 40), sig=20, N=150)  # There are also randn_fol method\n",
    "StereoNet(g, g.R);\n",
    "g.fisher_stats"
   ]
  },
  {
   "cell_type": "markdown",
   "metadata": {},
   "source": [
    "### Some useful methods of `Group` class\n",
    "As you already noticed Group provide several methods which operates on its data. Here are some more..."
   ]
  },
  {
   "cell_type": "code",
   "execution_count": null,
   "metadata": {},
   "outputs": [],
   "source": [
    "# Convert data to planar features\n",
    "g.asfol"
   ]
  },
  {
   "cell_type": "code",
   "execution_count": null,
   "metadata": {},
   "outputs": [],
   "source": [
    "# Convert data to vectors\n",
    "g.asvec3, g.V"
   ]
  },
  {
   "cell_type": "code",
   "execution_count": null,
   "metadata": {},
   "outputs": [],
   "source": [
    "# Spherical variance based on resultant length (Mardia 1972)\n",
    "# var = 1 - |R| / n\n",
    "g.var"
   ]
  },
  {
   "cell_type": "code",
   "execution_count": null,
   "metadata": {},
   "outputs": [],
   "source": [
    "# Cone angle containing ~63% of the data in degrees\n",
    "g.delta"
   ]
  },
  {
   "cell_type": "code",
   "execution_count": null,
   "metadata": {},
   "outputs": [],
   "source": [
    "# Degree of preffered orientation of data\n",
    "# D = 100 * (2 * |R| - n) / n\n",
    "g.rdegree"
   ]
  },
  {
   "cell_type": "markdown",
   "metadata": {},
   "source": [
    "When we study spatial distributions of features, it is handy to rotate the dataset along center of projection, i.e. preffered orientation is aligned with z axis. This could be achieved by `centered` method:"
   ]
  },
  {
   "cell_type": "code",
   "execution_count": null,
   "metadata": {},
   "outputs": [],
   "source": [
    "StereoNet(g.centered, g.centered.ortensor.eigenlins[0]);"
   ]
  },
  {
   "cell_type": "markdown",
   "metadata": {},
   "source": [
    "Method `cross` allows calculate cross product between groups, feature and group or between all pairs within group."
   ]
  },
  {
   "cell_type": "code",
   "execution_count": null,
   "metadata": {},
   "outputs": [],
   "source": [
    "g = Group([Lin(303,7), Lin(321,36), Lin(358,53), Lin(44,51), Lin(74,54), Lin(98,33), Lin(111,12)], name='L1')\n",
    "gc = g.cross()  # Calculate cross products for all pairs\n",
    "StereoNet(gc, g, gc.aslin);"
   ]
  },
  {
   "cell_type": "code",
   "execution_count": null,
   "metadata": {},
   "outputs": [],
   "source": [
    "o = gc.aslin.R\n",
    "StereoNet(o.cross(g), o, g); # Calculate cross product between feature and group"
   ]
  },
  {
   "cell_type": "code",
   "execution_count": null,
   "metadata": {},
   "outputs": [],
   "source": [
    "n = 10\n",
    "azis = linspace(170, 5, n)\n",
    "dips = linspace(5, 90, n)\n",
    "g1 = Group.from_array(azis, dips, typ=Lin)\n",
    "azis = linspace(190, 355, n)\n",
    "dips = linspace(5, 90, n)\n",
    "g2 = Group.from_array(azis, dips, typ=Lin)\n",
    "StereoNet(g1.cross(g2), g1 + g2);  # Calculate cross product between feature and group"
   ]
  },
  {
   "cell_type": "code",
   "execution_count": null,
   "metadata": {},
   "outputs": [],
   "source": []
  }
 ],
 "metadata": {
  "kernelspec": {
   "display_name": "Python 3",
   "language": "python",
   "name": "python3"
  },
  "language_info": {
   "codemirror_mode": {
    "name": "ipython",
    "version": 3
   },
   "file_extension": ".py",
   "mimetype": "text/x-python",
   "name": "python",
   "nbconvert_exporter": "python",
   "pygments_lexer": "ipython3",
   "version": "3.6.4"
  }
 },
 "nbformat": 4,
 "nbformat_minor": 2
}
