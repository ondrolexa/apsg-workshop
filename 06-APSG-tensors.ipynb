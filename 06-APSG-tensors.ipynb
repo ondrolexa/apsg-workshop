{
 "cells": [
  {
   "cell_type": "markdown",
   "metadata": {},
   "source": [
    "# APSG tutorial - tensors in structural geology\n",
    "[Ondrej Lexa](https://petrol.natur.cuni.cz/~ondro/)  \n",
    "Institute of Petrology and Structural Geology  \n",
    "Faculty of Science, Charles University  \n",
    "[lexa.ondrej@gmail.com](mailto:lexa.ondrej@gmail.com)"
   ]
  },
  {
   "cell_type": "code",
   "execution_count": null,
   "metadata": {},
   "outputs": [],
   "source": [
    "%pylab inline"
   ]
  },
  {
   "cell_type": "code",
   "execution_count": null,
   "metadata": {},
   "outputs": [],
   "source": [
    "from apsg import *\n",
    "plt.rcParams['figure.figsize'] = (9, 6)"
   ]
  },
  {
   "cell_type": "markdown",
   "metadata": {},
   "source": [
    "This package provides three classes to manipulate stress and strain tensors.\n",
    " * `DefGrad` fo deformation gradient tensor\n",
    " * `VelGrad` for velocity gradient tensor\n",
    " * `Stress` for stress tensor"
   ]
  },
  {
   "cell_type": "markdown",
   "metadata": {},
   "source": [
    "## Deformation gradient tensor\n",
    "\n",
    "The homogeneous deformation (rotation and strain) without translation could be described as:\n",
    "\n",
    "$$ \\begin{bmatrix}x \\\\ y \\\\ z\\end{bmatrix}=\\begin{bmatrix} a & b & c \\\\ d & e & f \\\\ g & h & i \\end{bmatrix}\\begin{bmatrix}X \\\\ Y \\\\ Z\\end{bmatrix}$$\n",
    "\n",
    "$$\\vec{x}=\\mathbf{F}\\vec{X}$$\n",
    "where $ \\mathbf{F} $ is so called **deformation gradient**.\n",
    "\n",
    "You can create instance of `DefGrad` by class method `from_comp`:\n",
    "*Note the setup of coordinate system in APSG**"
   ]
  },
  {
   "cell_type": "code",
   "execution_count": null,
   "metadata": {},
   "outputs": [],
   "source": [
    "s = StereoNet(grid=True)\n",
    "s.vector(Vec3([1,0,0]), label='X')\n",
    "s.vector(Vec3([0,1,0]), label='Y')\n",
    "s.vector(Vec3([0,0,1]), label='Z')\n",
    "s.show()"
   ]
  },
  {
   "cell_type": "code",
   "execution_count": null,
   "metadata": {},
   "outputs": [],
   "source": [
    "F = DefGrad.from_comp(xy=1) # simple shear in xy plane in x-direction\n",
    "F"
   ]
  },
  {
   "cell_type": "code",
   "execution_count": null,
   "metadata": {},
   "outputs": [],
   "source": [
    "u = Lin(90, 0)\n",
    "v = u.transform(F)\n",
    "v"
   ]
  },
  {
   "cell_type": "markdown",
   "metadata": {},
   "source": [
    "Note the change of length of deformed vector"
   ]
  },
  {
   "cell_type": "code",
   "execution_count": null,
   "metadata": {},
   "outputs": [],
   "source": [
    "abs(u), abs(v)"
   ]
  },
  {
   "cell_type": "markdown",
   "metadata": {},
   "source": [
    "We can apply deformation gradient on `Group` as well. So let's create set of linear features and transform them by deformation gradient $F$."
   ]
  },
  {
   "cell_type": "code",
   "execution_count": null,
   "metadata": {},
   "outputs": [],
   "source": [
    "# randn_lin method create pseudonormaly distributed lines around mean direction\n",
    "g = Group.randn_lin(mean=Lin(90, 0), N=100, sig=40, name='Original')\n",
    "gd = g.transform(F).uv  # Normalize vectors after deformation\n",
    "gd.name =  'Deformed'"
   ]
  },
  {
   "cell_type": "code",
   "execution_count": null,
   "metadata": {
    "scrolled": false
   },
   "outputs": [],
   "source": [
    "StereoNet(g, gd);"
   ]
  },
  {
   "cell_type": "markdown",
   "metadata": {},
   "source": [
    "We can check the change in intensity of preffered orientation using e.g. strength of orientation tensor"
   ]
  },
  {
   "cell_type": "code",
   "execution_count": null,
   "metadata": {},
   "outputs": [],
   "source": [
    "g.ortensor.strength, gd.ortensor.strength"
   ]
  },
  {
   "cell_type": "markdown",
   "metadata": {},
   "source": [
    "Or visuzlize on Frabric plot"
   ]
  },
  {
   "cell_type": "code",
   "execution_count": null,
   "metadata": {},
   "outputs": [],
   "source": [
    "FabricPlot(g, gd);"
   ]
  },
  {
   "cell_type": "markdown",
   "metadata": {},
   "source": [
    "## Velocity gradient tensor\n",
    "Velocity gradients are absolutely essential to analyses involving path dependent materials and are useful to better understanding deformations.\n",
    "\n",
    "The **velocity gradient** is to velocities what the deformation gradient is to displacements.The velocity gradient is used as a measure of the rate at which a material is deforming.\n",
    "\n",
    "The relative velocity between the points is\n",
    "\n",
    "$$d\\mathbf{v} = {\\partial{\\mathbf{v}} \\over \\partial{x}}dx = \\mathbf{L}dx$$\n",
    "\n",
    "If the **velocity gradient** is constant, the above equation can be solved exactly using *matrix exponential*:\n",
    "\n",
    "$$\\mathbf{F}=\\mathrm{e}^{\\mathbf{L}t}$$\n",
    "\n",
    "We can use these equation to calculate deformation gradient for any intermediate deformation. When deformation in time $t=1$ is defined by $\\mathbf{F}$, than for any time $t=[0,1]$:\n",
    "$$\\mathbf{F}(t)=\\mathrm{e}^{ln(\\mathbf{F})t}$$\n",
    "\n",
    "You can create instance of `VelGrad` by class method `from_comp`:\n",
    "*Note the setup of coordinate system in APSG**"
   ]
  },
  {
   "cell_type": "code",
   "execution_count": null,
   "metadata": {},
   "outputs": [],
   "source": [
    "L = VelGrad.from_comp(yy=-1, xx=0.8, zz=0.2)\n",
    "L"
   ]
  },
  {
   "cell_type": "markdown",
   "metadata": {},
   "source": [
    "To calculate deformation gradient at any given time, we can use `defgrad` method of `VelGrad`:"
   ]
  },
  {
   "cell_type": "code",
   "execution_count": null,
   "metadata": {},
   "outputs": [],
   "source": [
    "L.defgrad() # Default value for time is 1"
   ]
  },
  {
   "cell_type": "code",
   "execution_count": null,
   "metadata": {},
   "outputs": [],
   "source": [
    "L.defgrad(time=0.5)"
   ]
  },
  {
   "cell_type": "markdown",
   "metadata": {},
   "source": [
    "We can create simple code to demonstrate fabric evolution during deformation. We will start with uniformly distributed lines and we will progressively apply deformation."
   ]
  },
  {
   "cell_type": "code",
   "execution_count": null,
   "metadata": {},
   "outputs": [],
   "source": [
    "g = Group.uniform_lin()    # Uniformly distributed linear features\n",
    "ots = []\n",
    "f = FabricPlot()\n",
    "for t in linspace(0, 3, 20):\n",
    "    F = L.defgrad(time=t)\n",
    "    gd = g.transform(F).uv\n",
    "    f.plot(gd.ortensor, 'ko', label=None)\n",
    "f.show()"
   ]
  },
  {
   "cell_type": "markdown",
   "metadata": {},
   "source": [
    "## Example case - transpression\n",
    "Your task is to explore fabric evolution during transpression for different angles of convergence ($\\alpha$).\n",
    "\n",
    "Transpression and transtension were terms introduces by Harland (1971) to define deformation that involves both transcurrent (strike-slip) movement along a zone and compression or extension across it. Sanderson & Marchini (1984) produced a strain model for transpression, and the concept has subsequently been applied in a variety of tectonic settings over a wide range of scales. Transpression is modelled by the simultaneous application of a transcurrent shear and horizontal shortening orthogonal to a block, with no lateral stretch.\n",
    "\n",
    "<img src=\"images/trasnpression.png\" width=\"40%\">"
   ]
  },
  {
   "cell_type": "code",
   "execution_count": null,
   "metadata": {},
   "outputs": [],
   "source": []
  }
 ],
 "metadata": {
  "kernelspec": {
   "display_name": "Python 3",
   "language": "python",
   "name": "python3"
  },
  "language_info": {
   "codemirror_mode": {
    "name": "ipython",
    "version": 3
   },
   "file_extension": ".py",
   "mimetype": "text/x-python",
   "name": "python",
   "nbconvert_exporter": "python",
   "pygments_lexer": "ipython3",
   "version": "3.6.4"
  }
 },
 "nbformat": 4,
 "nbformat_minor": 2
}
