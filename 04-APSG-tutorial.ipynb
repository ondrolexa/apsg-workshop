{
 "cells": [
  {
   "cell_type": "markdown",
   "metadata": {},
   "source": [
    "# APSG tutorial - structural geology package for Python\n",
    "[Ondrej Lexa](https://petrol.natur.cuni.cz/~ondro/)  \n",
    "Institute of Petrology and Structural Geology  \n",
    "Faculty of Science, Charles University  \n",
    "[lexa.ondrej@gmail.com](mailto:lexa.ondrej@gmail.com)"
   ]
  },
  {
   "cell_type": "markdown",
   "metadata": {},
   "source": [
    "**APSG** defines several new python classes to easily manage, analyze and visualize orientation structural geology data. Base class ``Vec3`` is designed to represents **vectorial data** and is derived from Numpy array. It offers several new method which will be explained in following examples."
   ]
  },
  {
   "cell_type": "code",
   "execution_count": null,
   "metadata": {},
   "outputs": [],
   "source": [
    "%pylab inline"
   ]
  },
  {
   "cell_type": "markdown",
   "metadata": {},
   "source": [
    "## Basic usage"
   ]
  },
  {
   "cell_type": "markdown",
   "metadata": {},
   "source": [
    "**APSG** module could be imported either into own name space or into active one for easier interactive work"
   ]
  },
  {
   "cell_type": "code",
   "execution_count": null,
   "metadata": {
    "scrolled": true
   },
   "outputs": [],
   "source": [
    "from apsg import *\n",
    "plt.rcParams['figure.figsize'] = (10, 8)"
   ]
  },
  {
   "cell_type": "markdown",
   "metadata": {},
   "source": [
    "### Basic operations with vectors\n",
    "Instance of vector object ``Vec3`` could be created from any iterable object as list, tuple or array"
   ]
  },
  {
   "cell_type": "code",
   "execution_count": null,
   "metadata": {},
   "outputs": [],
   "source": [
    "u = Vec3([1, -2, 3])\n",
    "v = Vec3([-2, 1, 1])"
   ]
  },
  {
   "cell_type": "markdown",
   "metadata": {},
   "source": [
    "For common vector operation we can use standard mathematical operators or special methods using dot notation"
   ]
  },
  {
   "cell_type": "code",
   "execution_count": null,
   "metadata": {},
   "outputs": [],
   "source": [
    "u + v"
   ]
  },
  {
   "cell_type": "code",
   "execution_count": null,
   "metadata": {},
   "outputs": [],
   "source": [
    "u - v"
   ]
  },
  {
   "cell_type": "code",
   "execution_count": null,
   "metadata": {},
   "outputs": [],
   "source": [
    "3*u - 2*v"
   ]
  },
  {
   "cell_type": "markdown",
   "metadata": {},
   "source": [
    "Its magnitude or length is most commonly defined as its Euclidean norm and could be calculated using ``abs``"
   ]
  },
  {
   "cell_type": "code",
   "execution_count": null,
   "metadata": {},
   "outputs": [],
   "source": [
    "abs(v)"
   ]
  },
  {
   "cell_type": "code",
   "execution_count": null,
   "metadata": {},
   "outputs": [],
   "source": [
    "abs(u + v)"
   ]
  },
  {
   "cell_type": "markdown",
   "metadata": {
    "collapsed": true
   },
   "source": [
    "For *dot product* we can use multiplication operator ``*`` or ``dot`` method"
   ]
  },
  {
   "cell_type": "code",
   "execution_count": null,
   "metadata": {},
   "outputs": [],
   "source": [
    "u*v"
   ]
  },
  {
   "cell_type": "code",
   "execution_count": null,
   "metadata": {},
   "outputs": [],
   "source": [
    "u.dot(v)"
   ]
  },
  {
   "cell_type": "markdown",
   "metadata": {},
   "source": [
    "For *cross product* we can use operator ``**`` or method ``cross``"
   ]
  },
  {
   "cell_type": "code",
   "execution_count": null,
   "metadata": {},
   "outputs": [],
   "source": [
    "u**v"
   ]
  },
  {
   "cell_type": "code",
   "execution_count": null,
   "metadata": {},
   "outputs": [],
   "source": [
    "u.cross(v)"
   ]
  },
  {
   "cell_type": "markdown",
   "metadata": {},
   "source": [
    "To project vector ``u`` onto vector ``v`` we can use method ``proj``"
   ]
  },
  {
   "cell_type": "code",
   "execution_count": null,
   "metadata": {},
   "outputs": [],
   "source": [
    "u.proj(v)"
   ]
  },
  {
   "cell_type": "markdown",
   "metadata": {},
   "source": [
    "To find angle (in degrees) between to vectors we use method ``angle``"
   ]
  },
  {
   "cell_type": "code",
   "execution_count": null,
   "metadata": {},
   "outputs": [],
   "source": [
    "u.angle(v)"
   ]
  },
  {
   "cell_type": "markdown",
   "metadata": {},
   "source": [
    "Method ``rotate`` provide possibility to rotate vector around another vector. For example, to rotate vector ``u`` around vector ``v`` for 45°"
   ]
  },
  {
   "cell_type": "code",
   "execution_count": null,
   "metadata": {},
   "outputs": [],
   "source": [
    "u.rotate(v, 45)"
   ]
  },
  {
   "cell_type": "markdown",
   "metadata": {},
   "source": [
    "We can check whether the rotated vector has same angle as original to axis of rotation"
   ]
  },
  {
   "cell_type": "code",
   "execution_count": null,
   "metadata": {},
   "outputs": [],
   "source": [
    "v.angle(u), v.angle(u.rotate(v, 45))"
   ]
  },
  {
   "cell_type": "markdown",
   "metadata": {},
   "source": [
    "## Classes Lin and Fol\n",
    "To work with orientation data in structural geology, **APSG** provide two classes derived from `Vec3` class. There is `Fol` class to represent planar features (planes) and `Lin` class to represent linear feature (lines). Both classes provide all `Vec3` methods, but they differ in way how instance is created and how some operations evaluated, as both `Fol` and `Lin` are designed to represents **axial data**."
   ]
  },
  {
   "cell_type": "markdown",
   "metadata": {},
   "source": [
    "To create instance of ``Lin`` or ``Fol`` class, we have to provide dip direction and dip (for lines the plunge direction and plunge), both in degrees:  \n",
    "*There is very limited support for other notations. However, it can change in future...*\n",
    "<img src=\"images/dipdir.png\">"
   ]
  },
  {
   "cell_type": "code",
   "execution_count": null,
   "metadata": {},
   "outputs": [],
   "source": [
    "Lin(120, 60), Fol(216, 62)"
   ]
  },
  {
   "cell_type": "markdown",
   "metadata": {},
   "source": [
    "or we can create instance from ``Vec3`` object using ``aslin`` and ``asfol`` properties  \n",
    "*for planar feature vector represents it's normal vector*"
   ]
  },
  {
   "cell_type": "code",
   "execution_count": null,
   "metadata": {},
   "outputs": [],
   "source": [
    "u.aslin, u.asfol"
   ]
  },
  {
   "cell_type": "markdown",
   "metadata": {},
   "source": [
    "Features like `Vec3`, `Lin` and `Fol` could be easily visualized on Stereographic projection using `StereoNet` class. Providing any number of arguments results in immediate plot. More sophisticated usage will be described later.  \n",
    "*Note semicolon character on the end of the line. It supress object representation output.*"
   ]
  },
  {
   "cell_type": "code",
   "execution_count": null,
   "metadata": {},
   "outputs": [],
   "source": [
    "StereoNet(Lin(120, 60), Fol(216, 62), u, u.asfol);"
   ]
  },
  {
   "cell_type": "markdown",
   "metadata": {},
   "source": [
    "### Vec3 methods for Lin and Fol"
   ]
  },
  {
   "cell_type": "markdown",
   "metadata": {},
   "source": [
    "\n",
    "To find angle between two linear or planar features we can use method ``angle``"
   ]
  },
  {
   "cell_type": "code",
   "execution_count": null,
   "metadata": {},
   "outputs": [],
   "source": [
    "l1 = Lin(110, 40)\n",
    "l2 = Lin(160, 30)\n",
    "l1.angle(l2)"
   ]
  },
  {
   "cell_type": "code",
   "execution_count": null,
   "metadata": {},
   "outputs": [],
   "source": [
    "p1 = Fol(330, 50)\n",
    "p2 = Fol(250, 40)\n",
    "p1.angle(p2)"
   ]
  },
  {
   "cell_type": "markdown",
   "metadata": {},
   "source": [
    "We can use *cross product* to construct planar feature defined by two linear features"
   ]
  },
  {
   "cell_type": "code",
   "execution_count": null,
   "metadata": {},
   "outputs": [],
   "source": [
    "l1**l2"
   ]
  },
  {
   "cell_type": "code",
   "execution_count": null,
   "metadata": {},
   "outputs": [],
   "source": [
    "StereoNet(l1, l2, l1**l2);"
   ]
  },
  {
   "cell_type": "markdown",
   "metadata": {},
   "source": [
    "or to construct linear feature defined as intersection of two planar features"
   ]
  },
  {
   "cell_type": "code",
   "execution_count": null,
   "metadata": {},
   "outputs": [],
   "source": [
    "p1**p2"
   ]
  },
  {
   "cell_type": "code",
   "execution_count": null,
   "metadata": {},
   "outputs": [],
   "source": [
    "StereoNet(p1, p2, p1**p2);"
   ]
  },
  {
   "cell_type": "markdown",
   "metadata": {},
   "source": [
    "*Cross product* of planar and linear features could be used to construct plane defined by linear feature and normal of planar feature"
   ]
  },
  {
   "cell_type": "code",
   "execution_count": null,
   "metadata": {},
   "outputs": [],
   "source": [
    "l2**p2"
   ]
  },
  {
   "cell_type": "code",
   "execution_count": null,
   "metadata": {},
   "outputs": [],
   "source": [
    "StereoNet(l2, p2, l2**p2);"
   ]
  },
  {
   "cell_type": "markdown",
   "metadata": {},
   "source": [
    "or to find perpendicular linear feature on given plane"
   ]
  },
  {
   "cell_type": "code",
   "execution_count": null,
   "metadata": {},
   "outputs": [],
   "source": [
    "p2**l2"
   ]
  },
  {
   "cell_type": "code",
   "execution_count": null,
   "metadata": {},
   "outputs": [],
   "source": [
    "StereoNet(p2, l2, p2**l2);"
   ]
  },
  {
   "cell_type": "code",
   "execution_count": null,
   "metadata": {},
   "outputs": [],
   "source": [
    "l2.angle(p2**l2)"
   ]
  },
  {
   "cell_type": "markdown",
   "metadata": {},
   "source": [
    "To rotate structural features we can use method ``rotate``"
   ]
  },
  {
   "cell_type": "code",
   "execution_count": null,
   "metadata": {},
   "outputs": [],
   "source": [
    "p2.rotate(p1**p2, 45)"
   ]
  },
  {
   "cell_type": "code",
   "execution_count": null,
   "metadata": {},
   "outputs": [],
   "source": [
    "StereoNet(p2, p1, p2.rotate(p1**p2, 45));"
   ]
  },
  {
   "cell_type": "markdown",
   "metadata": {},
   "source": [
    "## Classes Pair and Fault\n",
    "To work with paired orientation data like foliations and lineations or fault data in structural geology, **APSG** provide two base ``Pair`` class and derived ``Fault`` class. Both classes are instantiated providing dip direction and dip of planar and linear measurements, which are automatically orthogonalized. If misfit is too high, warning is raised. The ``Fault`` class expects one more argument providing sense of movement information, either 1 or -1."
   ]
  },
  {
   "cell_type": "markdown",
   "metadata": {},
   "source": [
    "To create instance of ``Pair`` class, we have to provide dip direction and dip of planar and linear feature, both in degrees"
   ]
  },
  {
   "cell_type": "code",
   "execution_count": null,
   "metadata": {},
   "outputs": [],
   "source": [
    "p = Pair(120, 40, 162, 28)\n",
    "p"
   ]
  },
  {
   "cell_type": "code",
   "execution_count": null,
   "metadata": {},
   "outputs": [],
   "source": [
    "p.misfit"
   ]
  },
  {
   "cell_type": "markdown",
   "metadata": {},
   "source": [
    "Planar and linear features are accessible using ``fol`` and ``lin`` properties"
   ]
  },
  {
   "cell_type": "code",
   "execution_count": null,
   "metadata": {},
   "outputs": [],
   "source": [
    "p.fol, p.lin"
   ]
  },
  {
   "cell_type": "code",
   "execution_count": null,
   "metadata": {},
   "outputs": [],
   "source": [
    "StereoNet(p);"
   ]
  },
  {
   "cell_type": "markdown",
   "metadata": {},
   "source": [
    "To rotate ``Pair`` instance we can use ``rotate`` method"
   ]
  },
  {
   "cell_type": "code",
   "execution_count": null,
   "metadata": {},
   "outputs": [],
   "source": [
    "p.rotate(Lin(45, 10), 60)"
   ]
  },
  {
   "cell_type": "markdown",
   "metadata": {},
   "source": [
    "Instantiation of ``Fault`` class is similar, we just have to provide argument to define sense of movement"
   ]
  },
  {
   "cell_type": "code",
   "execution_count": null,
   "metadata": {},
   "outputs": [],
   "source": [
    "f = Fault(120, 60, 110, 58, -1)  # -1 for normal fault\n",
    "f"
   ]
  },
  {
   "cell_type": "code",
   "execution_count": null,
   "metadata": {},
   "outputs": [],
   "source": [
    "StereoNet(f);"
   ]
  },
  {
   "cell_type": "markdown",
   "metadata": {},
   "source": [
    "Note the change in sense of movement after ``Fault`` rotation"
   ]
  },
  {
   "cell_type": "code",
   "execution_count": null,
   "metadata": {},
   "outputs": [],
   "source": [
    "f.rotate(Lin(45, 10), 60)"
   ]
  },
  {
   "cell_type": "markdown",
   "metadata": {},
   "source": [
    "For simple fault analyses ``Fault`` class also provide ``p``, ``t``, ``m`` and ``d`` properties to get PT-axes, kinematic plane and dihedra separation plane"
   ]
  },
  {
   "cell_type": "code",
   "execution_count": null,
   "metadata": {},
   "outputs": [],
   "source": [
    "f.p, f.t, f.m, f.d"
   ]
  },
  {
   "cell_type": "code",
   "execution_count": null,
   "metadata": {},
   "outputs": [],
   "source": [
    "StereoNet(f, f.p, f.t, f.m, f.d);"
   ]
  },
  {
   "cell_type": "markdown",
   "metadata": {},
   "source": [
    "## Group class\n",
    "``Group`` class serve as a homogeneous container for ``Lin``, ``Fol`` and ``Vec3`` objects. It allows grouping of features either for visualization or batch analysis"
   ]
  },
  {
   "cell_type": "code",
   "execution_count": null,
   "metadata": {},
   "outputs": [],
   "source": [
    "g = Group([Lin(120,60), Lin(116,50), Lin(132,45), Lin(90,60), Lin(84,52)], name='L1')\n",
    "g"
   ]
  },
  {
   "cell_type": "markdown",
   "metadata": {},
   "source": [
    "To simplify interactive group creation, you can use function ``G``"
   ]
  },
  {
   "cell_type": "code",
   "execution_count": null,
   "metadata": {},
   "outputs": [],
   "source": [
    "g = G('120 60 116 50 132 45 90 60 84 52', name='L1')\n",
    "g"
   ]
  },
  {
   "cell_type": "markdown",
   "metadata": {},
   "source": [
    "Method ``len`` returns number of features in group"
   ]
  },
  {
   "cell_type": "code",
   "execution_count": null,
   "metadata": {},
   "outputs": [],
   "source": [
    "len(g)"
   ]
  },
  {
   "cell_type": "code",
   "execution_count": null,
   "metadata": {},
   "outputs": [],
   "source": [
    "StereoNet(g);"
   ]
  },
  {
   "cell_type": "markdown",
   "metadata": {},
   "source": [
    "Most of the ``Lin``, ``Fol`` and ``Vec3`` methods could be used for ``Group`` as well. For example, to measure angles between all features in group and another feature, we can use method ``angle``"
   ]
  },
  {
   "cell_type": "code",
   "execution_count": null,
   "metadata": {},
   "outputs": [],
   "source": [
    "g.angle(Lin(110,50))"
   ]
  },
  {
   "cell_type": "markdown",
   "metadata": {},
   "source": [
    "To rotate all features in group around another feature, we can use method ``rotate``"
   ]
  },
  {
   "cell_type": "code",
   "execution_count": null,
   "metadata": {},
   "outputs": [],
   "source": [
    "gr = g.rotate(Lin(270, 60), 60)"
   ]
  },
  {
   "cell_type": "code",
   "execution_count": null,
   "metadata": {},
   "outputs": [],
   "source": [
    "StereoNet(g, gr);"
   ]
  },
  {
   "cell_type": "markdown",
   "metadata": {},
   "source": [
    "To show data in list you can use ``data`` property"
   ]
  },
  {
   "cell_type": "code",
   "execution_count": null,
   "metadata": {},
   "outputs": [],
   "source": [
    "gr.data"
   ]
  },
  {
   "cell_type": "markdown",
   "metadata": {},
   "source": [
    "Property ``R`` gives mean or resultant of all features in group. Note that ``Lin`` and ``Fol`` are axial in nature, so resultant vector is not reliable. You can use ``ortensor`` property."
   ]
  },
  {
   "cell_type": "code",
   "execution_count": null,
   "metadata": {},
   "outputs": [],
   "source": [
    "g.R"
   ]
  },
  {
   "cell_type": "code",
   "execution_count": null,
   "metadata": {},
   "outputs": [],
   "source": [
    "StereoNet(g, g.R);"
   ]
  },
  {
   "cell_type": "markdown",
   "metadata": {},
   "source": [
    "``Group`` class offers several methods to infer spherical statistics as spherical variance, Fisher's statistics, confidence cones on data etc."
   ]
  },
  {
   "cell_type": "code",
   "execution_count": null,
   "metadata": {},
   "outputs": [],
   "source": [
    "g.var"
   ]
  },
  {
   "cell_type": "code",
   "execution_count": null,
   "metadata": {},
   "outputs": [],
   "source": [
    "g.fisher_stats"
   ]
  },
  {
   "cell_type": "code",
   "execution_count": null,
   "metadata": {},
   "outputs": [],
   "source": [
    "g.delta"
   ]
  },
  {
   "cell_type": "markdown",
   "metadata": {},
   "source": [
    "To calculate orientation tensor of all features in group, we can use ``ortensor`` property."
   ]
  },
  {
   "cell_type": "code",
   "execution_count": null,
   "metadata": {},
   "outputs": [],
   "source": [
    "g.ortensor"
   ]
  },
  {
   "cell_type": "markdown",
   "metadata": {},
   "source": [
    "## Ortensor class\n",
    "``Ortensor`` class represents orientation tensor of set of planar or linear features. Eigenvalues and eigenvectors could be obtained by methods ``eigenvals`` and ``eigenvects``. Eigenvectors could be also represented by linear or planar features using properties ``eigenlins`` and ``eigenfols``. Several properties to describe orientation distribution is also impleneted, e.g. Woodcock's ``shape`` and ``strength`` or Vollmer's ``P``, ``G``, ``R`` and ``C`` indexes."
   ]
  },
  {
   "cell_type": "code",
   "execution_count": null,
   "metadata": {},
   "outputs": [],
   "source": [
    "ot = Ortensor(g)\n",
    "ot.eigenvals"
   ]
  },
  {
   "cell_type": "code",
   "execution_count": null,
   "metadata": {},
   "outputs": [],
   "source": [
    "ot.eigenvects.data"
   ]
  },
  {
   "cell_type": "code",
   "execution_count": null,
   "metadata": {},
   "outputs": [],
   "source": [
    "ot.eigenlins.data"
   ]
  },
  {
   "cell_type": "code",
   "execution_count": null,
   "metadata": {},
   "outputs": [],
   "source": [
    "ot.eigenfols.data"
   ]
  },
  {
   "cell_type": "code",
   "execution_count": null,
   "metadata": {},
   "outputs": [],
   "source": [
    "StereoNet(g, ot);"
   ]
  },
  {
   "cell_type": "code",
   "execution_count": null,
   "metadata": {},
   "outputs": [],
   "source": [
    "ot.strength, ot.shape"
   ]
  },
  {
   "cell_type": "code",
   "execution_count": null,
   "metadata": {},
   "outputs": [],
   "source": [
    "ot.P, ot.G, ot.R"
   ]
  },
  {
   "cell_type": "markdown",
   "metadata": {
    "collapsed": true
   },
   "source": [
    "## StereoNet class\n",
    "When ``StereoNet`` class instance is created with arguments, they are immidiatelly plotted. Most of the objects provided by **APSG** could be plotted.\n",
    "\n",
    "Hovewer, the instance of `StereoNet` class could be used to visualize individual features according user needs using `StereoNet` methods like, `plane`, `line` or `pole`."
   ]
  },
  {
   "cell_type": "code",
   "execution_count": null,
   "metadata": {},
   "outputs": [],
   "source": [
    "s = StereoNet()\n",
    "s.plane(Fol(150, 40))\n",
    "s.pole(Fol(150, 40))\n",
    "s.line(Lin(112, 30))\n",
    "s.show()"
   ]
  },
  {
   "cell_type": "markdown",
   "metadata": {},
   "source": [
    "A small circles (or cones) could be plotted as well using method `cone`."
   ]
  },
  {
   "cell_type": "code",
   "execution_count": null,
   "metadata": {},
   "outputs": [],
   "source": [
    "s = StereoNet()\n",
    "g = Group.randn_lin(mean=Lin(40, 15))\n",
    "s.line(g, 'k.')\n",
    "s.cone(g.R, g.fisher_stats['a95'], 'r')  # confidence cone on resultant\n",
    "s.cone(g.R, g.fisher_stats['csd'], 'g')  # confidence cone on 63% of data\n",
    "s.show()"
   ]
  },
  {
   "cell_type": "markdown",
   "metadata": {},
   "source": [
    "To make density contours plots, a ``contour`` and ``contourf`` methods are available"
   ]
  },
  {
   "cell_type": "code",
   "execution_count": null,
   "metadata": {},
   "outputs": [],
   "source": [
    "s = StereoNet()\n",
    "g = Group.randn_lin(mean=Lin(40, 20))\n",
    "s.contourf(g, 8, legend=True, sigma=2)\n",
    "s.line(g, 'g.')\n",
    "s.show()"
   ]
  },
  {
   "cell_type": "markdown",
   "metadata": {},
   "source": [
    "Except ``Group``, **APSG** provides ``PairSet`` and ``FaultSet`` classes to store ``Pair`` or ``Fault`` datasets. It can be inicialized by passing list of ``Pair`` or ``Fault`` objects as argument or use class methods ``from_array`` or ``from_csv``"
   ]
  },
  {
   "cell_type": "code",
   "execution_count": null,
   "metadata": {},
   "outputs": [],
   "source": [
    "p = PairSet([Pair(120, 30, 165, 20),\n",
    "             Pair(215, 60, 280,35),\n",
    "             Pair(324, 70, 35, 40)])\n",
    "p.misfit"
   ]
  },
  {
   "cell_type": "code",
   "execution_count": null,
   "metadata": {},
   "outputs": [],
   "source": [
    "StereoNet(p);"
   ]
  },
  {
   "cell_type": "markdown",
   "metadata": {},
   "source": [
    "``StereoNet`` has two special methods to visualize fault data. Method ``fault`` produce classical Angelier plot"
   ]
  },
  {
   "cell_type": "code",
   "execution_count": null,
   "metadata": {},
   "outputs": [],
   "source": [
    "f = FaultSet([Fault(170, 60, 182, 59, -1),\n",
    "              Fault(210, 55, 195, 53, -1),\n",
    "              Fault(10, 60, 15, 59, -1),\n",
    "              Fault(355, 48, 22, 45, -1)])\n",
    "s = StereoNet()\n",
    "s.fault(f)\n",
    "s.line(f.p, label='P-axes')\n",
    "s.line(f.t, label='T-axes')\n",
    "s.plane(f.m, label='M-planes')\n",
    "s.show()"
   ]
  },
  {
   "cell_type": "markdown",
   "metadata": {},
   "source": [
    "`hoeppner` method produce Hoeppner diagram"
   ]
  },
  {
   "cell_type": "code",
   "execution_count": null,
   "metadata": {},
   "outputs": [],
   "source": [
    "s = StereoNet()\n",
    "s.hoeppner(f, label='Faults')\n",
    "s.show()"
   ]
  },
  {
   "cell_type": "markdown",
   "metadata": {},
   "source": [
    "Note that ``fault`` method is used, when data are passed directly to ``StereoNet`` instance"
   ]
  },
  {
   "cell_type": "code",
   "execution_count": null,
   "metadata": {},
   "outputs": [],
   "source": [
    "f = Fault(120, 60, 110, 58, -1)\n",
    "StereoNet(f, f.m, f.d, f.p, f.t);"
   ]
  },
  {
   "cell_type": "markdown",
   "metadata": {},
   "source": [
    "## StereoGrid class\n",
    "``StereoGrid`` class allows to visualize any scalar field on StereoNet. Internally it is used for plotting contour diagrams, but it exposes ``apply_func`` method to calculate scalar field by any user-defined function. Function must accept three element ``numpy.array`` as first argument passed from grid points of ``StereoGrid``."
   ]
  },
  {
   "cell_type": "markdown",
   "metadata": {},
   "source": [
    "Following example defines function to calculate resolved shear stress on plane from given stress tensor. ``StereoGrid`` is used to calculate this value over all directions and finally values are plotted by ``StereoNet``"
   ]
  },
  {
   "cell_type": "code",
   "execution_count": null,
   "metadata": {},
   "outputs": [],
   "source": [
    "S = Stress([[-10, 2, -3], [2, -5, 1], [-3, 1, 2]])\n",
    "d = StereoGrid()\n",
    "d.apply_func(S.shear_stress)\n",
    "s = StereoNet()\n",
    "s.contourf(d, 10, legend=True)\n",
    "s.show()"
   ]
  },
  {
   "cell_type": "markdown",
   "metadata": {},
   "source": [
    "The ``FaultSet`` provide also ``amgmech`` method which provide access to Angelier dihedra method. Results are stored in ``StereoGrid``. Default behavior is to calculate counts (positive in extension, negative in compression)"
   ]
  },
  {
   "cell_type": "code",
   "execution_count": null,
   "metadata": {},
   "outputs": [],
   "source": [
    "f = FaultSet.examples('MELE')\n",
    "StereoNet(f);"
   ]
  },
  {
   "cell_type": "code",
   "execution_count": null,
   "metadata": {},
   "outputs": [],
   "source": [
    "s = StereoNet()\n",
    "s.contourf(f.angmech(), 6, legend=True)\n",
    "s.show()"
   ]
  },
  {
   "cell_type": "markdown",
   "metadata": {},
   "source": [
    "Setting method to 'probability', maximum likelihood estimate is calculated."
   ]
  },
  {
   "cell_type": "code",
   "execution_count": null,
   "metadata": {},
   "outputs": [],
   "source": [
    "s = StereoNet()\n",
    "s.contourf(f.angmech(method='probability'), 6, legend=True)\n",
    "s.show()"
   ]
  },
  {
   "cell_type": "markdown",
   "metadata": {},
   "source": [
    "## FabricPlot class\n",
    "``FabricPlot`` class provide triangular fabric plot (Vollmer, 1989). You can pass either ``Ortensor`` or ``Group`` instances"
   ]
  },
  {
   "cell_type": "code",
   "execution_count": null,
   "metadata": {},
   "outputs": [],
   "source": [
    "g1 = Group.examples('B2')\n",
    "g2 = Group.examples('B4')\n",
    "g3 = Group.uniform_lin(name='Uniform')\n",
    "FabricPlot(g1, g2, g3);"
   ]
  },
  {
   "cell_type": "markdown",
   "metadata": {},
   "source": [
    "## Cluster class\n",
    "``Cluster`` class provide access to **scipy** hierarchical clustering. Distance matrix is calculated as mutual angles of features within Group keeping axial and/or vectorial nature in mind. ``Cluster.explain`` method allows to explore explained variance versus number of clusters relation. Actual cluster is done by ``Cluster.cluster`` method, using distance or maxclust criterion. Using of ``Cluster`` is explained in following example. We generate some data and plot dendrogram"
   ]
  },
  {
   "cell_type": "code",
   "execution_count": null,
   "metadata": {},
   "outputs": [],
   "source": [
    "g1 = Group.randn_lin(mean=Lin(45,30))\n",
    "g2 = Group.randn_lin(mean=Lin(320,56))\n",
    "g3 = Group.randn_lin(mean=Lin(150,40))\n",
    "g = g1 + g2 + g3\n",
    "cl = Cluster(g)\n",
    "cl.dendrogram(no_labels=True)"
   ]
  },
  {
   "cell_type": "markdown",
   "metadata": {},
   "source": [
    "Now we can explore evolution of within-groups variance versus number of clusters on Elbow plot (Note change in slope for three clusters)"
   ]
  },
  {
   "cell_type": "code",
   "execution_count": null,
   "metadata": {},
   "outputs": [],
   "source": [
    "cl.elbow()"
   ]
  },
  {
   "cell_type": "markdown",
   "metadata": {},
   "source": [
    "Finally we can do clustering and plot created clusters"
   ]
  },
  {
   "cell_type": "code",
   "execution_count": null,
   "metadata": {},
   "outputs": [],
   "source": [
    "cl.cluster(maxclust=3)\n",
    "cl.R.data  # Restored centres of clusters"
   ]
  },
  {
   "cell_type": "code",
   "execution_count": null,
   "metadata": {},
   "outputs": [],
   "source": [
    "StereoNet(*cl.groups, cl.R);"
   ]
  },
  {
   "cell_type": "markdown",
   "metadata": {},
   "source": [
    "## Some tricks"
   ]
  },
  {
   "cell_type": "markdown",
   "metadata": {},
   "source": [
    "Double cross products are allowed but not easy to understand.\n",
    "\n",
    "For example ``p**l**p`` is interpreted as ``p**(l**p)``: a) ``l**p`` is plane defined by ``l`` and ``p`` normal b) intersection of this plane and ``p`` is calculated"
   ]
  },
  {
   "cell_type": "code",
   "execution_count": null,
   "metadata": {},
   "outputs": [],
   "source": [
    "p = Fol(250,40)\n",
    "l = Lin(160,25)\n",
    "s = StereoNet()\n",
    "s.plane(p, lw=3, label='p')\n",
    "s.line(l, ms=10, label='l')\n",
    "s.plane(l**p, label='l**p')\n",
    "s.line(p**l, label='p**l')\n",
    "s.plane(l**p**l, label='l**p**l')\n",
    "s.line(p**l**p, label='p**l**p')"
   ]
  },
  {
   "cell_type": "markdown",
   "metadata": {},
   "source": [
    "``Pair`` class could be used to correct measurements of planar linear features which should spatialy overlap"
   ]
  },
  {
   "cell_type": "code",
   "execution_count": null,
   "metadata": {},
   "outputs": [],
   "source": [
    "pl = Pair(250, 40, 160, 25)\n",
    "pl.misfit"
   ]
  },
  {
   "cell_type": "code",
   "execution_count": null,
   "metadata": {},
   "outputs": [],
   "source": [
    "s = StereoNet()\n",
    "s.plane(Fol(250, 40), 'b', label='Original')\n",
    "s.line(Lin(160, 25), 'bo', label='Original')\n",
    "s.plane(pl.fol, 'g', label='Corrected')\n",
    "s.line(pl.lin, 'go', label='Corrected')\n",
    "s.show()"
   ]
  },
  {
   "cell_type": "markdown",
   "metadata": {
    "collapsed": true
   },
   "source": [
    "``StereoNet`` has method ``arrow`` to draw arrow. Here is example of Hoeppner plot for variable fault orientation within given stress field"
   ]
  },
  {
   "cell_type": "code",
   "execution_count": null,
   "metadata": {},
   "outputs": [],
   "source": [
    "S = Stress([[-8, 0, 0],[0, -5, 0],[0, 0, -1]]).rotate(Lin(90,45), 45)\n",
    "d = StereoGrid(npoints=300)\n",
    "#d.apply_func(S.shear_stress)\n",
    "s = StereoNet()\n",
    "#s.contourf(d, 10, legend=True, alpha=0.3)\n",
    "s.tensor(S)\n",
    "for dc in d.dcgrid:\n",
    "    f = S.fault(dc)\n",
    "    s.arrow(f.fvec, f.lvec, f.sense)\n",
    "s.show()"
   ]
  },
  {
   "cell_type": "code",
   "execution_count": null,
   "metadata": {},
   "outputs": [],
   "source": [
    "d = StereoGrid()\n",
    "d.apply_func(S.normal_stress)\n",
    "s = StereoNet()\n",
    "s.contourf(d, 10, legend=True)\n",
    "s.show()"
   ]
  },
  {
   "cell_type": "code",
   "execution_count": null,
   "metadata": {},
   "outputs": [],
   "source": [
    "d = StereoGrid()\n",
    "d.apply_func(S.shear_stress)\n",
    "s = StereoNet()\n",
    "s.contourf(d, 10, legend=True)\n",
    "s.show()"
   ]
  }
 ],
 "metadata": {
  "kernelspec": {
   "display_name": "Python 3",
   "language": "python",
   "name": "python3"
  },
  "language_info": {
   "codemirror_mode": {
    "name": "ipython",
    "version": 3
   },
   "file_extension": ".py",
   "mimetype": "text/x-python",
   "name": "python",
   "nbconvert_exporter": "python",
   "pygments_lexer": "ipython3",
   "version": "3.6.4"
  }
 },
 "nbformat": 4,
 "nbformat_minor": 1
}
